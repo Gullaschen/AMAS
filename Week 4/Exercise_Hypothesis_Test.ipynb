{
 "cells": [
  {
   "cell_type": "markdown",
   "metadata": {},
   "source": [
    "**Imports**"
   ]
  },
  {
   "cell_type": "code",
   "execution_count": 1,
   "metadata": {},
   "outputs": [],
   "source": [
    "import matplotlib.pyplot as plt\n",
    "import numpy as np\n",
    "from scipy.integrate import quad\n",
    "from scipy.stats import norm,beta,binom,chi2\n",
    "import pandas as pd\n",
    "from scipy.optimize import minimize\n",
    "from matplotlib.ticker import AutoMinorLocator\n",
    "\n",
    "colors = ['crimson','midnightblue', 'violet','orange','springgreen','dodgerblue','darkviolet', 'olive','tomato']\n",
    "plt.rcParams['axes.prop_cycle'] = plt.cycler(color=colors)"
   ]
  },
  {
   "cell_type": "markdown",
   "metadata": {},
   "source": [
    "**Exercise 1**"
   ]
  },
  {
   "cell_type": "code",
   "execution_count": 2,
   "metadata": {},
   "outputs": [],
   "source": [
    "df_1 = pd.read_csv('LLH_Ratio_2_data.txt', sep='\\s+',header=None)\n",
    "df_1.columns = ['X1','Y1']\n",
    "X1 = df_1['X1'].values\n",
    "\n",
    "df_2 = pd.read_csv('LLH_Ratio_2a_data.txt', sep='\\s+',header=None)\n",
    "df_2.columns = ['X2','Y2']\n",
    "X2 = df_2['X2'].values"
   ]
  },
  {
   "cell_type": "code",
   "execution_count": 4,
   "metadata": {},
   "outputs": [],
   "source": [
    "x_min , x_max = -1 , 1\n",
    "\n",
    "def null(x, alpha, beta):\n",
    "    func = lambda x: 1 + alpha*x + beta*x**2\n",
    "    norm, _ = quad(func, x_min, x_max)\n",
    "    pdf = 1 + alpha*x + beta*x**2\n",
    "    normalized_pdf = pdf / norm\n",
    "    return normalized_pdf\n",
    "\n",
    "def alternative(x, alpha, beta, gamma):\n",
    "    func = lambda x: 1 + alpha*x + beta*x**2 - gamma*x**5\n",
    "    norm, _ = quad(func, x_min, x_max)\n",
    "    pdf = 1 + alpha*x + beta*x**2 - gamma*x**5\n",
    "    normalized_pdf = pdf / norm\n",
    "    return normalized_pdf\n",
    "\n",
    "def log_likelihood_null(x,alpha,beta):\n",
    "    return np.sum(np.log(null(x,alpha,beta)),axis=0)\n",
    "\n",
    "def log_likelihood_alternative(x,alpha,beta,gamma):\n",
    "    return np.sum(np.log(alternative(x,alpha,beta,gamma)),axis=0)"
   ]
  },
  {
   "cell_type": "markdown",
   "metadata": {},
   "source": [
    "**Data set 1**"
   ]
  },
  {
   "cell_type": "markdown",
   "metadata": {},
   "source": [
    "Null Hypothesis"
   ]
  },
  {
   "cell_type": "code",
   "execution_count": 5,
   "metadata": {},
   "outputs": [
    {
     "name": "stdout",
     "output_type": "stream",
     "text": [
      "Alpha = 0.29904, Beta = 0.66121 , -LLH = 13432.13955\n"
     ]
    }
   ],
   "source": [
    "lambda_neg_LLH = lambda params: -log_likelihood_null(X1,params[0],params[1])\n",
    "\n",
    "res = minimize(lambda_neg_LLH,x0=[0.56,0.99],bounds=((0,1),(0,1)),method='L-BFGS-B')\n",
    "\n",
    "errors = np.sqrt(np.diag(res.hess_inv.todense()))\n",
    "\n",
    "min_a , min_b = res.x\n",
    "\n",
    "print(f'Alpha = {min_a:.05}, Beta = {min_b:.05} , -LLH = {res.fun:.10}')"
   ]
  },
  {
   "cell_type": "markdown",
   "metadata": {},
   "source": [
    "Alternative Hypothesis"
   ]
  },
  {
   "cell_type": "code",
   "execution_count": 6,
   "metadata": {},
   "outputs": [
    {
     "name": "stdout",
     "output_type": "stream",
     "text": [
      "Alpha = 0.32385 , Beta = 0.65676 , Gamma = 0.064355 , -LLH = 13431.4\n"
     ]
    }
   ],
   "source": [
    "lambda_neg_LLH_2 = lambda params: -log_likelihood_alternative(X1,params[0],params[1],params[2])\n",
    "\n",
    "res_2 = minimize(lambda_neg_LLH_2,x0=[0.29,0.66,0.1],bounds=((-1,1),(0,2),(0,1)),method='L-BFGS-B')\n",
    "\n",
    "errors_2 = np.sqrt(np.diag(res_2.hess_inv.todense()))\n",
    "\n",
    "min_a_2 , min_b_2 , min_g_2 = res_2.x\n",
    "\n",
    "print(f'Alpha = {min_a_2:.05} , Beta = {min_b_2:.05} , Gamma = {min_g_2:.05} , -LLH = {res_2.fun:.6}')"
   ]
  },
  {
   "cell_type": "code",
   "execution_count": 7,
   "metadata": {},
   "outputs": [
    {
     "name": "stdout",
     "output_type": "stream",
     "text": [
      "The double difference in LLH is 1.4683 and the p-value is 0.22561881743886059\n"
     ]
    }
   ],
   "source": [
    "diff = 2 * (res.fun - res_2.fun)\n",
    "p_value = 1 - chi2.cdf(diff, df=1)\n",
    "\n",
    "print(f'The double difference in LLH is {diff:.05} and the p-value is {p_value}')"
   ]
  },
  {
   "cell_type": "code",
   "execution_count": 8,
   "metadata": {},
   "outputs": [
    {
     "data": {
      "image/png": "[encoded data removed]",
      "text/plain": [
       "<Figure size 500x400 with 1 Axes>"
      ]
     },
     "metadata": {},
     "output_type": "display_data"
    }
   ],
   "source": [
    "plt.figure(figsize = (5,4))\n",
    "\n",
    "x_range = np.arange(-1,1,0.01)\n",
    "\n",
    "plt.hist(X1,bins=np.linspace(-1,1,50),density=True,alpha=0.5,label = 'X1',color='dodgerblue')\n",
    "plt.plot(x_range,null(x_range,min_a,min_b),alpha=0.9,label = 'Null fit',color='black')\n",
    "plt.plot(x_range,alternative(x_range,min_a_2,min_b_2,min_g_2),alpha=0.9,label = 'Alternative fit',color='orangered')\n",
    "\n",
    "plt.legend(loc = 'best',frameon = True)\n",
    "plt.xlabel('$x$')\n",
    "plt.ylabel('$f(x)$')\n",
    "plt.show()"
   ]
  },
  {
   "cell_type": "markdown",
   "metadata": {},
   "source": [
    "**Data set 2**"
   ]
  },
  {
   "cell_type": "markdown",
   "metadata": {},
   "source": [
    "Null Hypothesis"
   ]
  },
  {
   "cell_type": "code",
   "execution_count": 9,
   "metadata": {},
   "outputs": [
    {
     "name": "stdout",
     "output_type": "stream",
     "text": [
      "Alpha = -0.042909, Beta = 0.57967 , -LLH = 13651.0\n"
     ]
    }
   ],
   "source": [
    "lambda_neg_LLH_3 = lambda params: -log_likelihood_null(X2,params[0],params[1])\n",
    "\n",
    "res_3 = minimize(lambda_neg_LLH_3,x0=[0.56,0.99],bounds=((-1,1),(0,1)),method='L-BFGS-B')\n",
    "\n",
    "errors_3 = np.sqrt(np.diag(res_3.hess_inv.todense()))\n",
    "\n",
    "min_a_3 , min_b_3 = res_3.x\n",
    "\n",
    "print(f'Alpha = {min_a_3:.05}, Beta = {min_b_3:.05} , -LLH = {res_3.fun:.06}')"
   ]
  },
  {
   "cell_type": "markdown",
   "metadata": {},
   "source": [
    "Alternative Hypothesis"
   ]
  },
  {
   "cell_type": "code",
   "execution_count": 10,
   "metadata": {},
   "outputs": [
    {
     "name": "stdout",
     "output_type": "stream",
     "text": [
      "Alpha = 0.31783 , Beta = 0.58753 , Gamma = 0.92144 , -LLH = 13495.0\n"
     ]
    }
   ],
   "source": [
    "lambda_neg_LLH_4 = lambda params: -log_likelihood_alternative(X2,params[0],params[1],params[2])\n",
    "\n",
    "res_4 = minimize(lambda_neg_LLH_4,x0=[0.56,0.99,0.1],bounds=((-1,1),(0,2),(0,1)),method='L-BFGS-B')\n",
    "\n",
    "errors_4 = np.sqrt(np.diag(res_4.hess_inv.todense()))\n",
    "\n",
    "min_a_4 , min_b_4 , min_g_4 = res_4.x\n",
    "\n",
    "print(f'Alpha = {min_a_4:.05} , Beta = {min_b_4:.05} , Gamma = {min_g_4:.05} , -LLH = {res_4.fun:.06}')"
   ]
  },
  {
   "cell_type": "code",
   "execution_count": 11,
   "metadata": {},
   "outputs": [
    {
     "name": "stdout",
     "output_type": "stream",
     "text": [
      "The double difference in LLH is 311.98 and the p-value is 0.0\n"
     ]
    }
   ],
   "source": [
    "diff_2 = 2 * (res_3.fun - res_4.fun)\n",
    "p_value = 1 - chi2.cdf(diff_2, df=1)\n",
    "\n",
    "print(f'The double difference in LLH is {diff_2:.05} and the p-value is {p_value}')"
   ]
  },
  {
   "cell_type": "code",
   "execution_count": 12,
   "metadata": {},
   "outputs": [
    {
     "data": {
      "image/png": "[encoded data removed]",
      "text/plain": [
       "<Figure size 500x400 with 1 Axes>"
      ]
     },
     "metadata": {},
     "output_type": "display_data"
    }
   ],
   "source": [
    "plt.figure(figsize = (5,4))\n",
    "\n",
    "x_range = np.arange(-1,1,0.01)\n",
    "\n",
    "plt.hist(X2,bins=np.linspace(-1,1,50),density=True,alpha=0.5,label = 'X2',color='coral')\n",
    "plt.plot(x_range,null(x_range,min_a_3,min_b_3),alpha=0.9,label = 'Null fit',color='black')\n",
    "plt.plot(x_range,alternative(x_range,min_a_4,min_b_4,min_g_4),alpha=0.9,label = 'Alternative fit',color='forestgreen')\n",
    "\n",
    "plt.legend(loc = 'best',frameon = True)\n",
    "plt.xlabel('$x$')\n",
    "plt.ylabel('$f(x)$')\n",
    "plt.show()"
   ]
  },
  {
   "cell_type": "code",
   "execution_count": null,
   "metadata": {},
   "outputs": [],
   "source": []
  }
 ],
 "metadata": {
  "kernelspec": {
   "display_name": "base",
   "language": "python",
   "name": "python3"
  },
  "language_info": {
   "codemirror_mode": {
    "name": "ipython",
    "version": 3
   },
   "file_extension": ".py",
   "mimetype": "text/x-python",
   "name": "python",
   "nbconvert_exporter": "python",
   "pygments_lexer": "ipython3",
   "version": "3.8.18"
  }
 },
 "nbformat": 4,
 "nbformat_minor": 2
}
