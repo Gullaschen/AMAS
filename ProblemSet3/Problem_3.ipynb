{
 "cells": [
  {
   "cell_type": "markdown",
   "metadata": {},
   "source": [
    "##### **Imports**"
   ]
  },
  {
   "cell_type": "code",
   "execution_count": 159,
   "metadata": {},
   "outputs": [],
   "source": [
    "import matplotlib.pyplot as plt\n",
    "import numpy as np\n",
    "import pandas as pd\n",
    "from scipy.integrate import quad\n",
    "from scipy.stats import expon, norm , chi2\n",
    "from scipy.optimize import minimize\n",
    "from matplotlib.ticker import AutoMinorLocator\n",
    "from scipy.special import erf\n",
    "\n",
    "colors = ['crimson','midnightblue', 'magenta','orange','springgreen','dodgerblue','darkviolet', 'olive','tomato']\n",
    "plt.rcParams['axes.prop_cycle'] = plt.cycler(color=colors)"
   ]
  },
  {
   "cell_type": "markdown",
   "metadata": {},
   "source": [
    "##### **Problem 3a**"
   ]
  },
  {
   "cell_type": "markdown",
   "metadata": {},
   "source": [
    "Get data"
   ]
  },
  {
   "cell_type": "code",
   "execution_count": 160,
   "metadata": {},
   "outputs": [],
   "source": [
    "df = pd.read_csv('NucData.txt',header=None)\n",
    "df.columns = ['Data'] # Set column names\n",
    "data = np.array(df['Data'])\n",
    "pseudo_experiments = np.split(data, 100)"
   ]
  },
  {
   "cell_type": "markdown",
   "metadata": {},
   "source": [
    "Functions"
   ]
  },
  {
   "cell_type": "code",
   "execution_count": 161,
   "metadata": {},
   "outputs": [],
   "source": [
    "x_min = -2\n",
    "x_max = 10\n",
    "\n",
    "def null(x,sigma_t):\n",
    "    func = lambda x: (np.exp( -(2*x-sigma_t**2) / (2) ) * (erf( (x-sigma_t**2)/(np.sqrt(2)*sigma_t) ) + 1)) / 2\n",
    "    norm, _ = quad(func, x_min, x_max)\n",
    "    pdf = (np.exp( -(2*x-sigma_t**2) / (2) ) * (erf( (x-sigma_t**2)/(np.sqrt(2)*sigma_t) ) + 1)) / 2\n",
    "    normalized_pdf = pdf / norm\n",
    "    return normalized_pdf\n",
    "\n",
    "def alternative(x,sigma_t,b):\n",
    "    func = lambda x: (np.exp( -(2*b*x-sigma_t**2) / (2*b**2) ) * (erf( (b*x-sigma_t**2)/(np.sqrt(2)*b*sigma_t) ) + 1)) / (2*b)\n",
    "    norm, _ = quad(func, x_min, x_max)\n",
    "    pdf = (np.exp( -(2*b*x-sigma_t**2) / (2*b**2) ) * (erf( (b*x-sigma_t**2)/(np.sqrt(2)*b*sigma_t) ) + 1)) / (2*b)\n",
    "    normalized_pdf = pdf / norm\n",
    "    return normalized_pdf\n",
    "\n",
    "def log_likelihood_null(x,sigma_t):\n",
    "    return np.sum(np.log(null(x,sigma_t)))\n",
    "\n",
    "def log_likelihood_alternative(x,sigma_t,b):\n",
    "    return np.sum(np.log(alternative(x,sigma_t,b)))"
   ]
  },
  {
   "cell_type": "markdown",
   "metadata": {},
   "source": [
    "Computing Log-Likelihoods"
   ]
  },
  {
   "cell_type": "code",
   "execution_count": 162,
   "metadata": {},
   "outputs": [],
   "source": [
    "neg_2_ln_lambdas = []\n",
    "\n",
    "for experiment in pseudo_experiments:\n",
    "    lambda_neg_LLH_1 = lambda params: -log_likelihood_null(experiment,params[0])\n",
    "    res_1 = minimize(lambda_neg_LLH_1,x0=1.,bounds=[(0.3,100)],method='L-BFGS-B')\n",
    "    min_sigma_1 = res_1.x\n",
    "    \n",
    "    lambda_neg_LLH_2 = lambda params: -log_likelihood_alternative(experiment,params[0],params[1])\n",
    "    res_2 = minimize(lambda_neg_LLH_2,x0=[1.,1.],bounds=((0.3,10),(0.2,100)),method='L-BFGS-B')\n",
    "    min_sigma_2 , min_b_2 = res_2.x\n",
    "    \n",
    "    diff = 2 * (res_1.fun - res_2.fun)\n",
    "    \n",
    "    neg_2_ln_lambdas.append(diff)"
   ]
  },
  {
   "cell_type": "markdown",
   "metadata": {},
   "source": [
    "Plot"
   ]
  },
  {
   "cell_type": "code",
   "execution_count": 170,
   "metadata": {},
   "outputs": [
    {
     "data": {
      "image/png": "[encoded data removed]",
      "text/plain": [
       "<Figure size 600x400 with 1 Axes>"
      ]
     },
     "metadata": {},
     "output_type": "display_data"
    }
   ],
   "source": [
    "plt.figure(figsize = (6,4))\n",
    "\n",
    "bin_number = 26\n",
    "\n",
    "plt.hist(neg_2_ln_lambdas,bins=bin_number,density=False,color='darkmagenta')\n",
    "\n",
    "ax = plt.gca()\n",
    "ax.xaxis.set_minor_locator(AutoMinorLocator(5))\n",
    "ax.yaxis.set_minor_locator(AutoMinorLocator(5))\n",
    "ax.tick_params(which='minor', length=2, color='k')\n",
    "\n",
    "plt.title(f'Histogram of -2ln($\\lambda$) values - {bin_number} bins',fontsize=12)\n",
    "plt.xlabel('-2ln($\\lambda$) value',fontsize=12)\n",
    "plt.ylabel('Frequency [counts]',fontsize=12)\n",
    "plt.xlim(0,8)\n",
    "#plt.ylim(0,23)\n",
    "plt.grid(True,alpha=0.5,zorder=0)\n",
    "ax.set_axisbelow(True)\n",
    "plt.tight_layout()\n",
    "plt.savefig('Problem3_Fig3a.pdf')"
   ]
  },
  {
   "cell_type": "markdown",
   "metadata": {},
   "source": [
    "##### **Problem 3b**"
   ]
  },
  {
   "cell_type": "code",
   "execution_count": 171,
   "metadata": {},
   "outputs": [
    {
     "data": {
      "text/plain": [
       "11"
      ]
     },
     "execution_count": 171,
     "metadata": {},
     "output_type": "execute_result"
    }
   ],
   "source": [
    "sum = 0 # Count how many values are above 2.706\n",
    "\n",
    "for lambda_value in neg_2_ln_lambdas:\n",
    "    if lambda_value > 2.706:\n",
    "        sum += 1\n",
    "        \n",
    "sum"
   ]
  },
  {
   "cell_type": "code",
   "execution_count": null,
   "metadata": {},
   "outputs": [],
   "source": [
    "1 - (100 - sum) / 100"
   ]
  },
  {
   "cell_type": "code",
   "execution_count": 178,
   "metadata": {},
   "outputs": [
    {
     "data": {
      "text/plain": [
       "0.0999713781252588"
      ]
     },
     "execution_count": 178,
     "metadata": {},
     "output_type": "execute_result"
    }
   ],
   "source": [
    "1 - chi2.cdf(2.706, df=1) # Compute our expected number above 2.706, given chi2-distribution"
   ]
  }
 ],
 "metadata": {
  "kernelspec": {
   "display_name": "base",
   "language": "python",
   "name": "python3"
  },
  "language_info": {
   "codemirror_mode": {
    "name": "ipython",
    "version": 3
   },
   "file_extension": ".py",
   "mimetype": "text/x-python",
   "name": "python",
   "nbconvert_exporter": "python",
   "pygments_lexer": "ipython3",
   "version": "3.8.18"
  }
 },
 "nbformat": 4,
 "nbformat_minor": 2
}
