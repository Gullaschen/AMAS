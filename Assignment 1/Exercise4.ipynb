{
 "cells": [
  {
   "cell_type": "code",
   "execution_count": 446,
   "metadata": {},
   "outputs": [],
   "source": [
    "import pandas as pd # For data manipulation\n",
    "import unicodedata # For ensuring letter uniformity"
   ]
  },
  {
   "cell_type": "code",
   "execution_count": 476,
   "metadata": {},
   "outputs": [],
   "source": [
    "def normalize_name(input_string): # Remove unusual letters from name\n",
    "    norm_name = unicodedata.normalize('NFKD', input_string)\n",
    "    return ''.join([letter for letter in norm_name if not unicodedata.combining(letter)])\n",
    "\n",
    "def capitalize(input_string): # Capitalize first letter (like 'van' in Dutch names)\n",
    "    return input_string[0].upper()+input_string[1:]"
   ]
  },
  {
   "cell_type": "code",
   "execution_count": 464,
   "metadata": {},
   "outputs": [
    {
     "name": "stdout",
     "output_type": "stream",
     "text": [
      "There are 3614 names in total, some of which are non-unique\n"
     ]
    }
   ],
   "source": [
    "with open('BibTeX_Names.txt', 'r') as file: # Get BibTeX names\n",
    "    contents = file.read()\n",
    "names = [name.strip() for name in contents.split(' and ')] # Separate by 'and'\n",
    "df = pd.DataFrame(names, columns=['Name'])\n",
    "\n",
    "df['Name'] = df['Name'].apply(normalize_name) # Remove funky letters\n",
    "df['Name'] = df['Name'].apply(capitalize) # Capitalize\n",
    "\n",
    "print(f'There are {len(df)} names in total, some of which are non-unique')"
   ]
  },
  {
   "cell_type": "code",
   "execution_count": 470,
   "metadata": {},
   "outputs": [
    {
     "name": "stdout",
     "output_type": "stream",
     "text": [
      "There are 3529 unique authors, meaning there were 85 non-unique names\n"
     ]
    }
   ],
   "source": [
    "df = df.drop_duplicates() # Remove duplicate\n",
    "df = df.sort_values(by=['Name']) # Sort alphabetically\n",
    "print(f'There are {len(df)} unique authors, meaning there were {3614-3529} non-unique names')"
   ]
  },
  {
   "cell_type": "code",
   "execution_count": 474,
   "metadata": {},
   "outputs": [
    {
     "name": "stdout",
     "output_type": "stream",
     "text": [
      "Given the odd number of authors, the middle-most author is Link, K.\n"
     ]
    }
   ],
   "source": [
    "middle_name = df.iloc[len(df) // 2]['Name'] # Find middle name\n",
    "\n",
    "print(f'Given the odd number of authors, the middle-most author is {middle_name}')"
   ]
  }
 ],
 "metadata": {
  "kernelspec": {
   "display_name": "base",
   "language": "python",
   "name": "python3"
  },
  "language_info": {
   "codemirror_mode": {
    "name": "ipython",
    "version": 3
   },
   "file_extension": ".py",
   "mimetype": "text/x-python",
   "name": "python",
   "nbconvert_exporter": "python",
   "pygments_lexer": "ipython3",
   "version": "3.8.18"
  }
 },
 "nbformat": 4,
 "nbformat_minor": 2
}
