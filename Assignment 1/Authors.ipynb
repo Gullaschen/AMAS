{
 "cells": [
  {
   "cell_type": "code",
   "execution_count": 1,
   "metadata": {},
   "outputs": [],
   "source": [
    "from PyPDF2 import PdfReader\n",
    "import re\n",
    "import math\n",
    "reader = PdfReader(\"authors.pdf\")\n",
    "number_of_pages = len(reader.pages)"
   ]
  },
  {
   "cell_type": "markdown",
   "metadata": {},
   "source": [
    "**Approach 1**"
   ]
  },
  {
   "cell_type": "code",
   "execution_count": 2,
   "metadata": {},
   "outputs": [],
   "source": [
    "def reform(input_string):\n",
    "    no_special_chars = input_string.replace('¨', '').replace('-','').replace('´', '').replace('˙','').replace('˜','').replace('`','').replace('\\x03','').replace('ˇ','') # Strange characters\n",
    "    no_digits = ''.join(filter(lambda x: not x.isdigit(), no_special_chars)) # Remove numbers\n",
    "    no_newlines = no_digits.replace('\\n', ' ') # Remove line shifts\n",
    "    no_parentheses = re.sub(r'\\([^)]*\\)', ',', no_newlines) # Remove parantheses\n",
    "    no_jr_dot = no_parentheses.replace('JR.','JR')\n",
    "    no_and = re.sub(r'\\b[aA][nN][dD]\\b', ' ', no_jr_dot) # Remove 'and'\n",
    "    pattern = r'[A-Za-z]\\.' # Set the pattern (from A to z)\n",
    "    match = re.search(pattern, no_and) # Check\n",
    "    if match:\n",
    "        trimmed_string = no_and[match.start():]\n",
    "    else:\n",
    "        trimmed_string = no_and\n",
    "    return trimmed_string\n",
    "\n",
    "def period(input_string): # Input periods where necessary\n",
    "    def process_name(name):\n",
    "        parts = name.split()\n",
    "        if parts and not parts[0].endswith('.') and len(parts[0]) > 0: # Put period after first name if not present\n",
    "            parts[0] += '.'\n",
    "        if parts and parts[-1].endswith('.'):\n",
    "            parts[-1] = parts[-1][:-1]\n",
    "        return ' '.join(parts)\n",
    "    names = [name.strip() for name in input_string.split(',')]\n",
    "    processed_names = [process_name(name) for name in names]\n",
    "    return ', '.join(processed_names)\n",
    "\n",
    "def no_spaces(input_string): # Remove all spaces\n",
    "    no_spaces = input_string.replace(' ', '')\n",
    "    return no_spaces\n",
    "\n",
    "def extract_sort(names_string): # Extract names to list and then sort them by last name\n",
    "    names_list = [name.strip() for name in names_string.split(',') if name.strip()]\n",
    "    def extract_names_for_sorting(name):\n",
    "        parts = name.split('.')\n",
    "        last_name = parts[-1]\n",
    "        first_names = parts[:-1]\n",
    "        return (last_name, first_names, name)\n",
    "    sorted_names = sorted(names_list, key=extract_names_for_sorting)\n",
    "    return sorted_names\n",
    "\n",
    "def stop_string(input_string, substring):\n",
    "    pos = input_string.find(substring)\n",
    "    if pos != -1:\n",
    "        return input_string[:pos + len(substring)]\n",
    "    else:\n",
    "        return input_string"
   ]
  },
  {
   "cell_type": "code",
   "execution_count": 3,
   "metadata": {},
   "outputs": [],
   "source": [
    "#names_only = reform(stop_string(text,'OUDT')) # Just get names\n",
    "#period_names = period(names_only) # Add punctation to unabbreviated first names and remove punctuation from last names\n",
    "#no_space_names = no_spaces(period_names) # Remove spaces\n",
    "#sorted_names = extract_sort(no_space_names) # Sorted names and add to list"
   ]
  },
  {
   "cell_type": "code",
   "execution_count": 4,
   "metadata": {},
   "outputs": [],
   "source": [
    "all_authors = ''\n",
    "\n",
    "for i in range(0,11):\n",
    "    page = reader.pages[i]\n",
    "    text = page.extract_text()\n",
    "    \n",
    "    if i == 10: # Check if it's the last page\n",
    "        names_only = reform(stop_string(text,'OUDT')) # Get names\n",
    "    else:\n",
    "        names_only = reform(text)\n",
    "\n",
    "    period_names = period(names_only) # Add punctation to unabbreviated first names and remove punctuation from last names\n",
    "    no_space_names = no_spaces(period_names) # Remove spaces\n",
    "    all_authors = all_authors + no_space_names\n",
    "    \n",
    "all_authors = extract_sort(all_authors)"
   ]
  },
  {
   "cell_type": "code",
   "execution_count": 5,
   "metadata": {},
   "outputs": [],
   "source": [
    "all_authors_unique = [i for n, i in enumerate(all_authors) if i not in all_authors[:n]]"
   ]
  },
  {
   "cell_type": "code",
   "execution_count": 11,
   "metadata": {},
   "outputs": [
    {
     "data": {
      "text/plain": [
       "3611"
      ]
     },
     "execution_count": 11,
     "metadata": {},
     "output_type": "execute_result"
    }
   ],
   "source": [
    "len(all_authors)"
   ]
  },
  {
   "cell_type": "code",
   "execution_count": 10,
   "metadata": {},
   "outputs": [
    {
     "name": "stdout",
     "output_type": "stream",
     "text": [
      "T.S.LI\n",
      "T.P.LI\n"
     ]
    }
   ],
   "source": [
    "Index = (len(all_authors_unique)-1)/2\n",
    "print(all_authors_unique[math.ceil(Index)])\n",
    "print(all_authors_unique[math.floor(Index)])"
   ]
  },
  {
   "cell_type": "markdown",
   "metadata": {},
   "source": [
    "**Approach 2**"
   ]
  },
  {
   "cell_type": "code",
   "execution_count": null,
   "metadata": {},
   "outputs": [],
   "source": []
  }
 ],
 "metadata": {
  "kernelspec": {
   "display_name": "base",
   "language": "python",
   "name": "python3"
  },
  "language_info": {
   "codemirror_mode": {
    "name": "ipython",
    "version": 3
   },
   "file_extension": ".py",
   "mimetype": "text/x-python",
   "name": "python",
   "nbconvert_exporter": "python",
   "pygments_lexer": "ipython3",
   "version": "3.8.18"
  }
 },
 "nbformat": 4,
 "nbformat_minor": 2
}
