{
 "cells": [
  {
   "cell_type": "code",
   "execution_count": 93,
   "metadata": {},
   "outputs": [],
   "source": [
    "from PyPDF2 import PdfReader\n",
    "import re\n",
    "import pandas as pd\n",
    "import math\n",
    "import numpy as np\n",
    "reader = PdfReader(\"authors.pdf\")\n",
    "number_of_pages = len(reader.pages)"
   ]
  },
  {
   "cell_type": "markdown",
   "metadata": {},
   "source": [
    "**Approach 1**"
   ]
  },
  {
   "cell_type": "code",
   "execution_count": 119,
   "metadata": {},
   "outputs": [],
   "source": [
    "def reform(input_string):\n",
    "    string = input_string\n",
    "    special_char = ['´','`','∗','˜','¨','˘','¸','ˇ','’','-','ˆ','˙']\n",
    "    for char in special_char:\n",
    "        string = string.replace(char,' ')\n",
    "    string = ''.join(filter(lambda x: not x.isdigit(), string)) # Remove numbers\n",
    "    string = string.replace('\\n', '') # Remove line shifts\n",
    "    string = string.replace('\\x03','')\n",
    "    string = re.sub(r'\\([^)]*\\)', ',', string) # Remove parantheses\n",
    "    string = string.replace('JR.','JR')\n",
    "    string = re.sub(r'\\b[aA][nN][dD]\\b','', string) # Remove ' and '\n",
    "    string = string.replace('Ł','L')\n",
    "    pattern = r'[A-Za-z]\\.' # Set the pattern (from A to z)\n",
    "    match = re.search(pattern, string) # Check\n",
    "    if match:\n",
    "        new_string = string[match.start():]\n",
    "    else:\n",
    "        new_string = string\n",
    "    return new_string\n",
    "\n",
    "def period(input_string): # Input periods where necessary\n",
    "    def process_name(name):\n",
    "        parts = name.split()\n",
    "        if parts and not parts[0].endswith('.') and len(parts[0]) > 0: # Put period after first name if not present\n",
    "            parts[0] += '.'\n",
    "        if parts and parts[-1].endswith('.'):\n",
    "            parts[-1] = parts[-1][:-1]\n",
    "        return ' '.join(parts)\n",
    "    names = [name.strip() for name in input_string.split(',')]\n",
    "    processed_names = [process_name(name) for name in names]\n",
    "    return ', '.join(processed_names)\n",
    "\n",
    "def no_spaces(input_string): # Remove all spaces\n",
    "    no_spaces = input_string.replace(' ', '')\n",
    "    return no_spaces\n",
    "\n",
    "def extract_sort(names_string): # Extract names to list and then sort them by last name\n",
    "    names_list = [name.strip() for name in names_string.split(',') if name.strip()]\n",
    "    def extract_names_for_sorting(name):\n",
    "        parts = name.split('.')\n",
    "        last_name = parts[-1]\n",
    "        first_names = parts[:-1]\n",
    "        return (last_name, first_names, name)\n",
    "    sorted_names = sorted(names_list, key=extract_names_for_sorting)\n",
    "    return sorted_names\n",
    "\n",
    "def stop_string(input_string, substring):\n",
    "    pos = input_string.find(substring)\n",
    "    if pos != -1:\n",
    "        return input_string[:pos + len(substring)]\n",
    "    else:\n",
    "        return input_string"
   ]
  },
  {
   "cell_type": "code",
   "execution_count": 120,
   "metadata": {},
   "outputs": [],
   "source": [
    "all_authors = ''\n",
    "\n",
    "for i in range(0,11):\n",
    "    page = reader.pages[i]\n",
    "    text = page.extract_text()\n",
    "    if i == 10: # Check if it's the last page\n",
    "        names_only = reform(stop_string(text,'OUDT')) # Get names\n",
    "    else:\n",
    "        names_only = reform(text)\n",
    "\n",
    "    period_names = period(names_only) # Add punctation to unabbreviated first names and remove punctuation from last names\n",
    "    no_space_names = no_spaces(period_names) # Remove spaces\n",
    "    all_authors = all_authors + no_space_names\n",
    "    \n",
    "all_authors = extract_sort(all_authors)"
   ]
  },
  {
   "cell_type": "code",
   "execution_count": 121,
   "metadata": {},
   "outputs": [
    {
     "name": "stdout",
     "output_type": "stream",
     "text": [
      "3611\n",
      "3511\n"
     ]
    }
   ],
   "source": [
    "all_authors_unique = [i for n, i in enumerate(all_authors) if i not in all_authors[:n]]\n",
    "print(len(all_authors))\n",
    "print(len(all_authors_unique))"
   ]
  },
  {
   "cell_type": "code",
   "execution_count": 122,
   "metadata": {},
   "outputs": [
    {
     "data": {
      "text/plain": [
       "'ANDN.ZYWUCKA'"
      ]
     },
     "execution_count": 122,
     "metadata": {},
     "output_type": "execute_result"
    }
   ],
   "source": [
    "all_authors_unique[-1]"
   ]
  },
  {
   "cell_type": "code",
   "execution_count": 123,
   "metadata": {},
   "outputs": [
    {
     "name": "stdout",
     "output_type": "stream",
     "text": [
      "T.S.LI\n",
      "T.P.LI\n"
     ]
    }
   ],
   "source": [
    "print(all_authors_unique[int(len(all_authors_unique)/2)])\n",
    "print(all_authors_unique[int(len(all_authors_unique)/2)-1])"
   ]
  },
  {
   "cell_type": "markdown",
   "metadata": {},
   "source": [
    "**Approach 2**"
   ]
  },
  {
   "cell_type": "code",
   "execution_count": 106,
   "metadata": {},
   "outputs": [
    {
     "name": "stdout",
     "output_type": "stream",
     "text": [
      "3529\n"
     ]
    }
   ],
   "source": [
    "with open('names.txt', 'r') as file:\n",
    "    contents = file.read()\n",
    "names = [name.strip() for name in contents.split(' and ')]\n",
    "df = pd.DataFrame(names, columns=['Name'])\n",
    "df = df.drop_duplicates()\n",
    "df = df.sort_values(by=['Name'])\n",
    "print(len(df['Name']))"
   ]
  },
  {
   "cell_type": "code",
   "execution_count": 109,
   "metadata": {},
   "outputs": [
    {
     "data": {
      "text/plain": [
       "'Cardillo, M.'"
      ]
     },
     "execution_count": 109,
     "metadata": {},
     "output_type": "execute_result"
    }
   ],
   "source": [
    "middle_index = len(df) // 2\n",
    "if len(df) % 2 == 0:\n",
    "    middle_values = df.iloc[middle_index - 1: middle_index + 1]\n",
    "else:\n",
    "    middle_values = df.iloc[middle_index]\n",
    "print(\"Middle-most value(s):\")\n",
    "print(middle_values)"
   ]
  },
  {
   "cell_type": "code",
   "execution_count": 118,
   "metadata": {},
   "outputs": [
    {
     "data": {
      "text/plain": [
       "Name    Liu, J.\n",
       "Name: 577, dtype: object"
      ]
     },
     "execution_count": 118,
     "metadata": {},
     "output_type": "execute_result"
    }
   ],
   "source": [
    "df.iloc[len(df) // 2]"
   ]
  }
 ],
 "metadata": {
  "kernelspec": {
   "display_name": "base",
   "language": "python",
   "name": "python3"
  },
  "language_info": {
   "codemirror_mode": {
    "name": "ipython",
    "version": 3
   },
   "file_extension": ".py",
   "mimetype": "text/x-python",
   "name": "python",
   "nbconvert_exporter": "python",
   "pygments_lexer": "ipython3",
   "version": "3.8.18"
  }
 },
 "nbformat": 4,
 "nbformat_minor": 2
}
