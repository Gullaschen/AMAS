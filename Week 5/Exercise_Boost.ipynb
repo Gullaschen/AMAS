{
 "cells": [
  {
   "cell_type": "markdown",
   "metadata": {},
   "source": [
    "##### **Imports**"
   ]
  },
  {
   "cell_type": "code",
   "execution_count": null,
   "metadata": {},
   "outputs": [],
   "source": [
    "import matplotlib.pyplot as plt\n",
    "import numpy as np\n",
    "from scipy.integrate import quad\n",
    "from scipy.stats import gaussian_kde\n",
    "import pandas as pd\n",
    "from scipy.optimize import minimize\n",
    "from matplotlib.ticker import AutoMinorLocator\n",
    "from prettytable import PrettyTable\n",
    "import seaborn as sns\n",
    "\n",
    "colors = ['crimson','midnightblue', 'violet','orange','springgreen','dodgerblue','darkviolet', 'olive','tomato']\n",
    "plt.rcParams['axes.prop_cycle'] = plt.cycler(color=colors)"
   ]
  },
  {
   "cell_type": "markdown",
   "metadata": {},
   "source": [
    "##### **Exercise 1**"
   ]
  },
  {
   "cell_type": "code",
   "execution_count": null,
   "metadata": {},
   "outputs": [],
   "source": []
  }
 ],
 "metadata": {
  "language_info": {
   "name": "python"
  }
 },
 "nbformat": 4,
 "nbformat_minor": 2
}
