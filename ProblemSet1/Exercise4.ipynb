{
 "cells": [
  {
   "cell_type": "code",
   "execution_count": 290,
   "metadata": {},
   "outputs": [],
   "source": [
    "import pandas as pd # For data manipulation\n",
    "import unicodedata # For ensuring letter uniformity\n",
    "import numpy as np \n",
    "import re # For string manipulation\n",
    "from PyPDF2 import PdfReader # For reading in and handling PDFs"
   ]
  },
  {
   "cell_type": "markdown",
   "metadata": {},
   "source": [
    "#### **Approach 1 (BibTex)**"
   ]
  },
  {
   "cell_type": "code",
   "execution_count": 291,
   "metadata": {},
   "outputs": [],
   "source": [
    "def normalize_name(input_string):\n",
    "    \"\"\" Tiny function to remove any non-standard like Á to A \"\"\"\n",
    "    norm_name = unicodedata.normalize('NFKD', input_string)\n",
    "    return ''.join([letter for letter in norm_name if not unicodedata.combining(letter)])\n",
    "\n",
    "def capitalize(input_string): # Capitalize first letter (like 'van' in Dutch names)\n",
    "    \"\"\" Capitalize the first letter like 'van' to 'Van' to sort properly \"\"\"\n",
    "    return input_string[0].upper()+input_string[1:]"
   ]
  },
  {
   "cell_type": "markdown",
   "metadata": {},
   "source": [
    "**Read file and get names**"
   ]
  },
  {
   "cell_type": "code",
   "execution_count": 292,
   "metadata": {},
   "outputs": [
    {
     "name": "stdout",
     "output_type": "stream",
     "text": [
      "There are 3614 names in total, some of which are non-unique\n"
     ]
    }
   ],
   "source": [
    "with open('BibTeX_Names.txt', 'r') as file: # Get BibTeX names\n",
    "    contents = file.read()\n",
    "names = [name.strip() for name in contents.split(' and ')] # Separate by 'and'\n",
    "\n",
    "df = pd.DataFrame(names, columns=['Name'])\n",
    "\n",
    "print(f'There are {len(df)} names in total, some of which are non-unique')"
   ]
  },
  {
   "cell_type": "markdown",
   "metadata": {},
   "source": [
    "**Remove duplicates and sort (no letter conversion nor capitalization)**"
   ]
  },
  {
   "cell_type": "code",
   "execution_count": 293,
   "metadata": {},
   "outputs": [
    {
     "name": "stdout",
     "output_type": "stream",
     "text": [
      "There are 3529 unique authors, meaning there were 85 non-unique names\n"
     ]
    }
   ],
   "source": [
    "df_copy = df.copy()\n",
    "df_copy = df_copy.drop_duplicates() # Remove duplicate\n",
    "df_copy = df_copy.sort_values(by=['Name']) # Sort alphabetically\n",
    "print(f'There are {len(df_copy)} unique authors, meaning there were {3614-3529} non-unique names')"
   ]
  },
  {
   "cell_type": "code",
   "execution_count": 294,
   "metadata": {},
   "outputs": [
    {
     "name": "stdout",
     "output_type": "stream",
     "text": [
      "Given the odd number of authors, the middle-most author is Liu, J. with no changes to the names\n"
     ]
    }
   ],
   "source": [
    "middle_name = df_copy.iloc[len(df_copy) // 2]['Name'] # Find middle name\n",
    "\n",
    "print(f'Given the odd number of authors, the middle-most author is {middle_name} with no changes to the names')"
   ]
  },
  {
   "cell_type": "markdown",
   "metadata": {},
   "source": [
    "**Remove duplicates and sort (with letter conversion and capitalization)**"
   ]
  },
  {
   "cell_type": "code",
   "execution_count": 295,
   "metadata": {},
   "outputs": [
    {
     "name": "stdout",
     "output_type": "stream",
     "text": [
      "There are 3529 unique authors, meaning there were 85 non-unique names\n"
     ]
    }
   ],
   "source": [
    "df_copy = df.copy()\n",
    "df_copy['Name'] = df_copy['Name'].apply(normalize_name) # Remove funky letters\n",
    "df_copy['Name'] = df_copy['Name'].apply(capitalize) # Capitalize\n",
    "df_copy = df_copy.drop_duplicates() # Remove duplicate\n",
    "df_copy = df_copy.sort_values(by=['Name']) # Sort alphabetically\n",
    "print(f'There are {len(df_copy)} unique authors, meaning there were {3614-3529} non-unique names')"
   ]
  },
  {
   "cell_type": "code",
   "execution_count": 296,
   "metadata": {},
   "outputs": [
    {
     "name": "stdout",
     "output_type": "stream",
     "text": [
      "Given the odd number of authors, the middle-most author is Link, K. with capitalization and letter conversion\n"
     ]
    }
   ],
   "source": [
    "middle_name = df_copy.iloc[len(df_copy) // 2]['Name'] # Find middle name\n",
    "\n",
    "print(f'Given the odd number of authors, the middle-most author is {middle_name} with capitalization and letter conversion')"
   ]
  },
  {
   "cell_type": "markdown",
   "metadata": {},
   "source": [
    "#### **Approach 2 (PDF)**"
   ]
  },
  {
   "cell_type": "code",
   "execution_count": 297,
   "metadata": {},
   "outputs": [],
   "source": [
    "reader = PdfReader(\"authors-acknowledgements-v5.pdf\")"
   ]
  },
  {
   "cell_type": "code",
   "execution_count": 298,
   "metadata": {},
   "outputs": [],
   "source": [
    "def reform(input_string):\n",
    "    \n",
    "    \"\"\" Function taking in the page and then reform it. Remove funny characters slipping through,\n",
    "        remove numbers, remove stuff in parantheses, remove non-standard letters, remove 'and' \n",
    "        and reform some names that break upon reading. Names break often during reading the file, \n",
    "        so a name like 'Gustav' often becomes 'G ustav'. \"\"\"\n",
    "    \n",
    "    string = input_string\n",
    "    special_char = ['´','`','∗','˜','¨','˘','¸','ˇ','’','-','ˆ','˙']\n",
    "    for char in special_char:\n",
    "        string = string.replace(char,'')\n",
    "    string = string.replace('\\n',' ') # Remove line shift\n",
    "    string = string.replace('\\x03',' ') # Remove this funny thing\n",
    "    string = ''.join(filter(lambda x: not x.isdigit(), string)) # Remove numbers\n",
    "    string = re.sub(r\"\\([^()]*\\)\",',', string) # Remove parantheses\n",
    "    string = string.replace('JR.','JR') # Special case\n",
    "    string = normalize_name(string) # Remove funny letters\n",
    "    string = re.sub(r'\\bs\\b\\s*[AND]\\b','SAND',string,flags=re.IGNORECASE) # Second special case of 'S AND' breaking\n",
    "    string = re.sub(r'\\b[AND]\\b','',string) # Remove 'and'\n",
    "    string = re.sub(r'(?<=\\b[A-Za-z])\\s(?![.])','', string) # Fixes the name-breaking by patching space\n",
    "    pattern = r'[A-Za-z]\\.'\n",
    "    match = re.search(pattern, string) # Check for the pattern\n",
    "    return string[match.start():]\n",
    "\n",
    "def no_spaces(input_string): # Remove unnecessary space\n",
    "    no_spaces = input_string.replace(' ','')\n",
    "    return no_spaces\n",
    "\n",
    "def period(input_string): # Put in punctuation after every name\n",
    "    names = input_string.split() # Split\n",
    "    names_ = [name+'.' if name[-1] not in ['.'] else name for name in names]\n",
    "    return ''.join(names_) # Rejoin the splitted names\n",
    "\n",
    "def stop_string(input_string, stop): \n",
    "    \"\"\" Function for stopping PDF reading at the last name \"\"\"\n",
    "    pos = input_string.find(stop) # Find the last name if it there\n",
    "    if pos != -1: # Check if it is at the back\n",
    "        return input_string[:pos+len(stop)] # Take only the page uptill the last name\n",
    "    else:\n",
    "        return input_string \n",
    "    \n",
    "def last_names(name):\n",
    "    names = list(name.split('.')) # Split names\n",
    "    last_names = [last_name for last_name in names if len(last_name) > 1]\n",
    "    return '.'.join(last_names) # Rejoin and get the last names only"
   ]
  },
  {
   "cell_type": "markdown",
   "metadata": {},
   "source": [
    "**Loop over pages, reformat text and get dataframe**"
   ]
  },
  {
   "cell_type": "code",
   "execution_count": 299,
   "metadata": {},
   "outputs": [
    {
     "name": "stdout",
     "output_type": "stream",
     "text": [
      "There are 3612 names in total, some of which are non-unique\n"
     ]
    }
   ],
   "source": [
    "dataframes = []\n",
    "\n",
    "for i in range(0,11):\n",
    "    text = reform(stop_string(reader.pages[i].extract_text(),'W OUDT')) # Read page and stop at 'W OUDT' (last page)\n",
    "    names = [name.strip() for name in text.split(',')] # Separate names at ,\n",
    "    df = pd.DataFrame(names, columns=['Name'])\n",
    "\n",
    "    df.replace({'':np.nan,' ':np.nan,'  ':np.nan}, inplace=True) # Convert 'empty' cells to proper empty\n",
    "    df = df.dropna(how='all') # Remove empty cells\n",
    "    df['Name'] = df['Name'].apply(period) # Set punctuations\n",
    "    df['Name'] = df['Name'].apply(no_spaces) # Remove spaces\n",
    "    df['Last'] = df['Name'].apply(last_names) # Get last names\n",
    "    \n",
    "    dataframes.append(df) # Add dataframe of page to list\n",
    "\n",
    "df = pd.concat(dataframes) # Combine all dataframe\n",
    "print(f'There are {len(df)} names in total, some of which are non-unique')"
   ]
  },
  {
   "cell_type": "markdown",
   "metadata": {},
   "source": [
    "**Remove duplicates and sort**"
   ]
  },
  {
   "cell_type": "code",
   "execution_count": 300,
   "metadata": {},
   "outputs": [
    {
     "name": "stdout",
     "output_type": "stream",
     "text": [
      "There are 3516 unique authors, meaning there were 96 non-unique names\n"
     ]
    }
   ],
   "source": [
    "df = df.drop_duplicates() # Remove duplicate\n",
    "df = df.sort_values(by=['Last','Name']) # Sort alphabetically\n",
    "print(f'There are {len(df)} unique authors, meaning there were {3612-3516} non-unique names')"
   ]
  },
  {
   "cell_type": "markdown",
   "metadata": {},
   "source": [
    "**Finding middle-most name**"
   ]
  },
  {
   "cell_type": "code",
   "execution_count": 301,
   "metadata": {},
   "outputs": [
    {
     "name": "stdout",
     "output_type": "stream",
     "text": [
      "Given the even number of authors, the middle-most authors are Q.R.LIU. and J.LIU.\n"
     ]
    }
   ],
   "source": [
    "middle_name_1 = df.iloc[len(df) // 2]['Name'] # Find middle name\n",
    "middle_name_2 = df.iloc[len(df) // 2 - 1]['Name'] # Find middle name\n",
    "\n",
    "print(f'Given the even number of authors, the middle-most authors are {middle_name_1} and {middle_name_2}')"
   ]
  }
 ],
 "metadata": {
  "kernelspec": {
   "display_name": "base",
   "language": "python",
   "name": "python3"
  },
  "language_info": {
   "codemirror_mode": {
    "name": "ipython",
    "version": 3
   },
   "file_extension": ".py",
   "mimetype": "text/x-python",
   "name": "python",
   "nbconvert_exporter": "python",
   "pygments_lexer": "ipython3",
   "version": "3.8.18"
  }
 },
 "nbformat": 4,
 "nbformat_minor": 2
}
