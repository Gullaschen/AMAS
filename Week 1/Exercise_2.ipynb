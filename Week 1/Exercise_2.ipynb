{
 "cells": [
  {
   "cell_type": "code",
   "execution_count": null,
   "metadata": {},
   "outputs": [],
   "source": [
    "import numpy as np\n",
    "import matplotlib.pyplot as plt\n",
    "colors = ['dodgerblue', 'lightcoral', 'violet', 'springgreen','gold','crimson']\n",
    "plt.rcParams['axes.prop_cycle'] = plt.cycler(color=colors)"
   ]
  }
 ],
 "metadata": {
  "language_info": {
   "name": "python"
  }
 },
 "nbformat": 4,
 "nbformat_minor": 2
}
