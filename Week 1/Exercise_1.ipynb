{
 "cells": [
  {
   "cell_type": "markdown",
   "metadata": {},
   "source": [
    "**Imports**"
   ]
  },
  {
   "cell_type": "code",
   "execution_count": 28,
   "metadata": {},
   "outputs": [],
   "source": [
    "import numpy as np\n",
    "import pandas as pd"
   ]
  },
  {
   "cell_type": "markdown",
   "metadata": {},
   "source": [
    "**Reading data**"
   ]
  },
  {
   "cell_type": "code",
   "execution_count": 61,
   "metadata": {},
   "outputs": [],
   "source": [
    "def parse_data(file_path): # Function for parsing .txt with non-numerical string\n",
    "    data_sets = {}  # Dictionary to hold the data sets\n",
    "    current_set = None\n",
    "\n",
    "    errors = 0\n",
    "\n",
    "    with open(file_path, 'r') as file:\n",
    "        for line in file:\n",
    "            line = line.strip()\n",
    "            if line.startswith(\"Data set\"):  # New data set\n",
    "                current_set = line  # Update the current data set\n",
    "                data_sets[current_set] = []  # Initialize an empty list for this set\n",
    "            elif line:  # Non-empty line, add data to current data set\n",
    "                try:\n",
    "                    x, y = map(float, line.split('\\t'))\n",
    "                    data_sets[current_set].append([x, y])\n",
    "                except Exception as e: # An error usually appears due to the initial string line\n",
    "                    errors += 1\n",
    "\n",
    "    return data_sets , errors # Get the data sets as a dictionary\n",
    "\n",
    "data_sets , errors = parse_data('FranksNumbers.txt') # Get the data sets"
   ]
  },
  {
   "cell_type": "markdown",
   "metadata": {},
   "source": [
    "**Compute means and variances**"
   ]
  },
  {
   "cell_type": "code",
   "execution_count": 93,
   "metadata": {},
   "outputs": [
    {
     "name": "stdout",
     "output_type": "stream",
     "text": [
      "[8.056565656565656, 8.056464646464647, 8.055252525252524, 8.056363636363637, 8.056161616161615]\n",
      "[3.7520628099173554, 3.752390082644628, 3.747836363636364, 3.7484082644628103, 3.7501745351239673]\n"
     ]
    }
   ],
   "source": [
    "means = []\n",
    "variances = []\n",
    "\n",
    "for data in data_sets.values():\n",
    "    \n",
    "    x_values = [item[0] for item in data]\n",
    "    y_values = [item[1] for item in data]\n",
    "    \n",
    "    means.append( np.average(y_values,weights=x_values)) \n",
    "    variances.append( np.var(y_values,ddof=0))\n",
    "    \n",
    "print(means)\n",
    "print(variances)"
   ]
  },
  {
   "cell_type": "markdown",
   "metadata": {},
   "source": [
    "**Chi2**"
   ]
  },
  {
   "cell_type": "code",
   "execution_count": 72,
   "metadata": {},
   "outputs": [],
   "source": [
    "def test_function(x):\n",
    "    return x*0.48 + 3.02"
   ]
  },
  {
   "cell_type": "code",
   "execution_count": 107,
   "metadata": {},
   "outputs": [
    {
     "data": {
      "text/plain": [
       "[1.5545390861808746, 9.460225745767271, 0.1727265651312083, 1.0511361939741413]"
      ]
     },
     "execution_count": 107,
     "metadata": {},
     "output_type": "execute_result"
    }
   ],
   "source": [
    "chi_values = []\n",
    "\n",
    "for data in data_sets.values():\n",
    "    \n",
    "    x_values = [item[0] for item in data]\n",
    "    y_values = [item[1] for item in data]\n",
    "    \n",
    "    obs_y_values = [test_function(x) for x in x_values] # Get the y-values from function\n",
    "    \n",
    "    sy_values_1 = np.sqrt(obs_y_values) # Get uncertainties from Poisson error\n",
    "    sy_values_2 = [1.22 for x in range(len(y_values))] # Get uncertainties from 1.22\n",
    "\n",
    "    chi2_1 = 0 # Chi2 using Poisson error\n",
    "    chi2_2 = 0 # Chi2 using 1.22\n",
    "        \n",
    "    for y_2 , y_1 , sy_1 in zip(y_values,obs_y_values,sy_values_1):\n",
    "        chi2_1 += ((y_2 - y_1)**2) / ( sy_1**2 ) # Compute Chi (Poisson)\n",
    "        \n",
    "    for y_2 , y_1 , sy_1 in zip(y_values,obs_y_values,sy_values_2):\n",
    "        chi2_2 += ((y_2 - y_1)**2) / ( sy_1**2 ) # Compute Chi (1.22)\n",
    "    \n",
    "    red_chi2_1 = chi2_1 / (len(x_values)-2)\n",
    "    red_chi2_2 = chi2_2 / (len(x_values)-2)\n",
    "    \n",
    "    chi_values.append([chi2_1,chi2_2,red_chi2_1,red_chi2_2])"
   ]
  },
  {
   "cell_type": "markdown",
   "metadata": {},
   "source": [
    "**Summed up**"
   ]
  },
  {
   "cell_type": "code",
   "execution_count": 119,
   "metadata": {},
   "outputs": [
    {
     "name": "stdout",
     "output_type": "stream",
     "text": [
      "For Data Set 1;\n",
      "mean is 8.056565656565656\n",
      "Variance is 3.7520628099173554\n",
      "Chi2 (sigma = sqrt(y)) is 1.8868253038459033\n",
      "Chi2 (sigma = 1.22) is 9.467817790916422\n",
      "For Data Set 2;\n",
      "mean is 8.056464646464647\n",
      "Variance is 3.752390082644628\n",
      "Chi2 (sigma = sqrt(y)) is 2.0715758463593357\n",
      "Chi2 (sigma = 1.22) is 9.47668637463048\n",
      "For Data Set 3;\n",
      "mean is 8.055252525252524\n",
      "Variance is 3.747836363636364\n",
      "Chi2 (sigma = sqrt(y)) is 1.5545390861808746\n",
      "Chi2 (sigma = 1.22) is 9.460225745767271\n",
      "For Data Set 4;\n",
      "mean is 8.056363636363637\n",
      "Variance is 3.7484082644628103\n",
      "Chi2 (sigma = sqrt(y)) is 2.0429349282664355\n",
      "Chi2 (sigma = 1.22) is 9.453708680462244\n",
      "For Data Set 5;\n",
      "mean is 8.056161616161615\n",
      "Variance is 3.7501745351239673\n",
      "Chi2 (sigma = sqrt(y)) is 7.55587516465255\n",
      "Chi2 (sigma = 1.22) is 37.85843859177642\n"
     ]
    }
   ],
   "source": [
    "count = 1\n",
    "\n",
    "for mean,variance,chi2 in zip(means,variances,chi_values):\n",
    "    \n",
    "    print(f'For Data Set {count};')\n",
    "    print(f'mean is {mean}')\n",
    "    print(f'Variance is {variance}')\n",
    "    print(f'Chi2 (sigma = sqrt(y)) is {chi2[0]}')\n",
    "    print(f'Chi2 (sigma = 1.22) is {chi2[1]}')\n",
    "    # print(f'Redcued chi2 (sigma = sqrt(y)) is {chi2[2]}')\n",
    "    # print(f'Reduced chi2 (sigma = 1.22) is {chi2[3]}')\n",
    "    \n",
    "    count += 1"
   ]
  }
 ],
 "metadata": {
  "kernelspec": {
   "display_name": "base",
   "language": "python",
   "name": "python3"
  },
  "language_info": {
   "codemirror_mode": {
    "name": "ipython",
    "version": 3
   },
   "file_extension": ".py",
   "mimetype": "text/x-python",
   "name": "python",
   "nbconvert_exporter": "python",
   "pygments_lexer": "ipython3",
   "version": "3.8.18"
  }
 },
 "nbformat": 4,
 "nbformat_minor": 2
}
