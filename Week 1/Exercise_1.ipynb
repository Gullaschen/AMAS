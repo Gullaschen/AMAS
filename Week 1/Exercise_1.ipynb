{
 "cells": [
  {
   "cell_type": "markdown",
   "metadata": {},
   "source": [
    "**Imports**"
   ]
  },
  {
   "cell_type": "code",
   "execution_count": null,
   "metadata": {},
   "outputs": [],
   "source": [
    "import numpy as np\n",
    "import pandas as pd"
   ]
  },
  {
   "cell_type": "markdown",
   "metadata": {},
   "source": [
    "**Reading data**"
   ]
  },
  {
   "cell_type": "code",
   "execution_count": 17,
   "metadata": {},
   "outputs": [],
   "source": [
    "def parse_data(file_path): # Function for parsing .txt with non-numerical string\n",
    "    data_sets = {}  # Dictionary to hold the data sets\n",
    "    current_set = None\n",
    "\n",
    "    errors = 0\n",
    "\n",
    "    with open(file_path, 'r') as file:\n",
    "        for line in file:\n",
    "            line = line.strip()\n",
    "            if line.startswith(\"Data set\"):  # New data set\n",
    "                current_set = line  # Update the current data set\n",
    "                data_sets[current_set] = []  # Initialize an empty list for this set\n",
    "            elif line:  # Non-empty line, add data to current data set\n",
    "                try:\n",
    "                    x, y = map(float, line.split('\\t'))\n",
    "                    data_sets[current_set].append((x, y))\n",
    "                except Exception as e: # An error usually appears due to the initial string line\n",
    "                    errors += 1\n",
    "\n",
    "    return data_sets , errors\n",
    "\n",
    "data_sets , errors = parse_data('FranksNumbers.txt')"
   ]
  },
  {
   "cell_type": "code",
   "execution_count": 20,
   "metadata": {},
   "outputs": [
    {
     "data": {
      "text/plain": [
       "[(10.0, 8.04),\n",
       " (8.0, 6.95),\n",
       " (13.0, 7.58),\n",
       " (9.0, 8.81),\n",
       " (11.0, 8.33),\n",
       " (14.0, 9.96),\n",
       " (6.0, 7.24),\n",
       " (4.0, 4.26),\n",
       " (12.0, 10.84),\n",
       " (7.0, 4.82),\n",
       " (5.0, 5.68)]"
      ]
     },
     "execution_count": 20,
     "metadata": {},
     "output_type": "execute_result"
    }
   ],
   "source": [
    "data_sets['Data set 1']"
   ]
  },
  {
   "cell_type": "code",
   "execution_count": null,
   "metadata": {},
   "outputs": [],
   "source": []
  }
 ],
 "metadata": {
  "kernelspec": {
   "display_name": "base",
   "language": "python",
   "name": "python3"
  },
  "language_info": {
   "codemirror_mode": {
    "name": "ipython",
    "version": 3
   },
   "file_extension": ".py",
   "mimetype": "text/x-python",
   "name": "python",
   "nbconvert_exporter": "python",
   "pygments_lexer": "ipython3",
   "version": "3.8.18"
  }
 },
 "nbformat": 4,
 "nbformat_minor": 2
}
